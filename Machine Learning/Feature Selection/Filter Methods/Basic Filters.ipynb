{
 "cells": [
  {
   "cell_type": "markdown",
   "metadata": {},
   "source": [
    "# Topics\n",
    "- Constant, Quasi Constant and Duplicate Feature Removal\n",
    "- Correlated Feature Removal"
   ]
  },
  {
   "cell_type": "markdown",
   "metadata": {},
   "source": [
    "# Libraries"
   ]
  },
  {
   "cell_type": "code",
   "execution_count": 1,
   "metadata": {},
   "outputs": [],
   "source": [
    "import pandas as pd\n",
    "import numpy as np\n",
    "\n",
    "import seaborn as sns\n",
    "import matplotlib.pyplot as plt\n",
    "\n",
    "from sklearn import datasets \n",
    "from sklearn.model_selection import train_test_split\n",
    "from sklearn.feature_selection import VarianceThreshold\n",
    "from sklearn.ensemble import RandomForestClassifier\n",
    "from sklearn.metrics import accuracy_score"
   ]
  },
  {
   "cell_type": "markdown",
   "metadata": {},
   "source": [
    "# Data"
   ]
  },
  {
   "cell_type": "code",
   "execution_count": 2,
   "metadata": {},
   "outputs": [
    {
     "data": {
      "text/html": [
       "<div>\n",
       "<style scoped>\n",
       "    .dataframe tbody tr th:only-of-type {\n",
       "        vertical-align: middle;\n",
       "    }\n",
       "\n",
       "    .dataframe tbody tr th {\n",
       "        vertical-align: top;\n",
       "    }\n",
       "\n",
       "    .dataframe thead th {\n",
       "        text-align: right;\n",
       "    }\n",
       "</style>\n",
       "<table border=\"1\" class=\"dataframe\">\n",
       "  <thead>\n",
       "    <tr style=\"text-align: right;\">\n",
       "      <th></th>\n",
       "      <th>ID</th>\n",
       "      <th>var3</th>\n",
       "      <th>var15</th>\n",
       "      <th>imp_ent_var16_ult1</th>\n",
       "      <th>imp_op_var39_comer_ult1</th>\n",
       "      <th>imp_op_var39_comer_ult3</th>\n",
       "      <th>imp_op_var40_comer_ult1</th>\n",
       "      <th>imp_op_var40_comer_ult3</th>\n",
       "      <th>imp_op_var40_efect_ult1</th>\n",
       "      <th>imp_op_var40_efect_ult3</th>\n",
       "      <th>...</th>\n",
       "      <th>saldo_medio_var33_hace2</th>\n",
       "      <th>saldo_medio_var33_hace3</th>\n",
       "      <th>saldo_medio_var33_ult1</th>\n",
       "      <th>saldo_medio_var33_ult3</th>\n",
       "      <th>saldo_medio_var44_hace2</th>\n",
       "      <th>saldo_medio_var44_hace3</th>\n",
       "      <th>saldo_medio_var44_ult1</th>\n",
       "      <th>saldo_medio_var44_ult3</th>\n",
       "      <th>var38</th>\n",
       "      <th>TARGET</th>\n",
       "    </tr>\n",
       "  </thead>\n",
       "  <tbody>\n",
       "    <tr>\n",
       "      <th>0</th>\n",
       "      <td>1</td>\n",
       "      <td>2</td>\n",
       "      <td>23</td>\n",
       "      <td>0.0</td>\n",
       "      <td>0.0</td>\n",
       "      <td>0.0</td>\n",
       "      <td>0.0</td>\n",
       "      <td>0.0</td>\n",
       "      <td>0</td>\n",
       "      <td>0</td>\n",
       "      <td>...</td>\n",
       "      <td>0.0</td>\n",
       "      <td>0.0</td>\n",
       "      <td>0.0</td>\n",
       "      <td>0.0</td>\n",
       "      <td>0.0</td>\n",
       "      <td>0.0</td>\n",
       "      <td>0.0</td>\n",
       "      <td>0.0</td>\n",
       "      <td>39205.170000</td>\n",
       "      <td>0</td>\n",
       "    </tr>\n",
       "    <tr>\n",
       "      <th>1</th>\n",
       "      <td>3</td>\n",
       "      <td>2</td>\n",
       "      <td>34</td>\n",
       "      <td>0.0</td>\n",
       "      <td>0.0</td>\n",
       "      <td>0.0</td>\n",
       "      <td>0.0</td>\n",
       "      <td>0.0</td>\n",
       "      <td>0</td>\n",
       "      <td>0</td>\n",
       "      <td>...</td>\n",
       "      <td>0.0</td>\n",
       "      <td>0.0</td>\n",
       "      <td>0.0</td>\n",
       "      <td>0.0</td>\n",
       "      <td>0.0</td>\n",
       "      <td>0.0</td>\n",
       "      <td>0.0</td>\n",
       "      <td>0.0</td>\n",
       "      <td>49278.030000</td>\n",
       "      <td>0</td>\n",
       "    </tr>\n",
       "    <tr>\n",
       "      <th>2</th>\n",
       "      <td>4</td>\n",
       "      <td>2</td>\n",
       "      <td>23</td>\n",
       "      <td>0.0</td>\n",
       "      <td>0.0</td>\n",
       "      <td>0.0</td>\n",
       "      <td>0.0</td>\n",
       "      <td>0.0</td>\n",
       "      <td>0</td>\n",
       "      <td>0</td>\n",
       "      <td>...</td>\n",
       "      <td>0.0</td>\n",
       "      <td>0.0</td>\n",
       "      <td>0.0</td>\n",
       "      <td>0.0</td>\n",
       "      <td>0.0</td>\n",
       "      <td>0.0</td>\n",
       "      <td>0.0</td>\n",
       "      <td>0.0</td>\n",
       "      <td>67333.770000</td>\n",
       "      <td>0</td>\n",
       "    </tr>\n",
       "    <tr>\n",
       "      <th>3</th>\n",
       "      <td>8</td>\n",
       "      <td>2</td>\n",
       "      <td>37</td>\n",
       "      <td>0.0</td>\n",
       "      <td>195.0</td>\n",
       "      <td>195.0</td>\n",
       "      <td>0.0</td>\n",
       "      <td>0.0</td>\n",
       "      <td>0</td>\n",
       "      <td>0</td>\n",
       "      <td>...</td>\n",
       "      <td>0.0</td>\n",
       "      <td>0.0</td>\n",
       "      <td>0.0</td>\n",
       "      <td>0.0</td>\n",
       "      <td>0.0</td>\n",
       "      <td>0.0</td>\n",
       "      <td>0.0</td>\n",
       "      <td>0.0</td>\n",
       "      <td>64007.970000</td>\n",
       "      <td>0</td>\n",
       "    </tr>\n",
       "    <tr>\n",
       "      <th>4</th>\n",
       "      <td>10</td>\n",
       "      <td>2</td>\n",
       "      <td>39</td>\n",
       "      <td>0.0</td>\n",
       "      <td>0.0</td>\n",
       "      <td>0.0</td>\n",
       "      <td>0.0</td>\n",
       "      <td>0.0</td>\n",
       "      <td>0</td>\n",
       "      <td>0</td>\n",
       "      <td>...</td>\n",
       "      <td>0.0</td>\n",
       "      <td>0.0</td>\n",
       "      <td>0.0</td>\n",
       "      <td>0.0</td>\n",
       "      <td>0.0</td>\n",
       "      <td>0.0</td>\n",
       "      <td>0.0</td>\n",
       "      <td>0.0</td>\n",
       "      <td>117310.979016</td>\n",
       "      <td>0</td>\n",
       "    </tr>\n",
       "  </tbody>\n",
       "</table>\n",
       "<p>5 rows × 371 columns</p>\n",
       "</div>"
      ],
      "text/plain": [
       "   ID  var3  var15  imp_ent_var16_ult1  imp_op_var39_comer_ult1  \\\n",
       "0   1     2     23                 0.0                      0.0   \n",
       "1   3     2     34                 0.0                      0.0   \n",
       "2   4     2     23                 0.0                      0.0   \n",
       "3   8     2     37                 0.0                    195.0   \n",
       "4  10     2     39                 0.0                      0.0   \n",
       "\n",
       "   imp_op_var39_comer_ult3  imp_op_var40_comer_ult1  imp_op_var40_comer_ult3  \\\n",
       "0                      0.0                      0.0                      0.0   \n",
       "1                      0.0                      0.0                      0.0   \n",
       "2                      0.0                      0.0                      0.0   \n",
       "3                    195.0                      0.0                      0.0   \n",
       "4                      0.0                      0.0                      0.0   \n",
       "\n",
       "   imp_op_var40_efect_ult1  imp_op_var40_efect_ult3  ...  \\\n",
       "0                        0                        0  ...   \n",
       "1                        0                        0  ...   \n",
       "2                        0                        0  ...   \n",
       "3                        0                        0  ...   \n",
       "4                        0                        0  ...   \n",
       "\n",
       "   saldo_medio_var33_hace2  saldo_medio_var33_hace3  saldo_medio_var33_ult1  \\\n",
       "0                      0.0                      0.0                     0.0   \n",
       "1                      0.0                      0.0                     0.0   \n",
       "2                      0.0                      0.0                     0.0   \n",
       "3                      0.0                      0.0                     0.0   \n",
       "4                      0.0                      0.0                     0.0   \n",
       "\n",
       "   saldo_medio_var33_ult3  saldo_medio_var44_hace2  saldo_medio_var44_hace3  \\\n",
       "0                     0.0                      0.0                      0.0   \n",
       "1                     0.0                      0.0                      0.0   \n",
       "2                     0.0                      0.0                      0.0   \n",
       "3                     0.0                      0.0                      0.0   \n",
       "4                     0.0                      0.0                      0.0   \n",
       "\n",
       "   saldo_medio_var44_ult1  saldo_medio_var44_ult3          var38  TARGET  \n",
       "0                     0.0                     0.0   39205.170000       0  \n",
       "1                     0.0                     0.0   49278.030000       0  \n",
       "2                     0.0                     0.0   67333.770000       0  \n",
       "3                     0.0                     0.0   64007.970000       0  \n",
       "4                     0.0                     0.0  117310.979016       0  \n",
       "\n",
       "[5 rows x 371 columns]"
      ]
     },
     "execution_count": 2,
     "metadata": {},
     "output_type": "execute_result"
    }
   ],
   "source": [
    "data = pd.read_csv('santander.csv', nrows=20000)\n",
    "\n",
    "data.head()"
   ]
  },
  {
   "cell_type": "markdown",
   "metadata": {},
   "source": [
    "# Variables"
   ]
  },
  {
   "cell_type": "code",
   "execution_count": 3,
   "metadata": {},
   "outputs": [
    {
     "name": "stdout",
     "output_type": "stream",
     "text": [
      "Initial number of features: 370\n"
     ]
    }
   ],
   "source": [
    "X = data.drop('TARGET', axis=1)\n",
    "\n",
    "y = data['TARGET']\n",
    "\n",
    "X_train, X_test, y_train, y_test = train_test_split(X, y, test_size=0.2, stratify=y)\n",
    "\n",
    "print('Initial number of features:', X_train.shape[1])"
   ]
  },
  {
   "cell_type": "markdown",
   "metadata": {},
   "source": [
    "# Feature selection"
   ]
  },
  {
   "cell_type": "markdown",
   "metadata": {},
   "source": [
    "### Constant and quasi-constant features removal"
   ]
  },
  {
   "cell_type": "code",
   "execution_count": 4,
   "metadata": {},
   "outputs": [
    {
     "name": "stdout",
     "output_type": "stream",
     "text": [
      "Number of features after remove constant and quasi-constant features: 256\n"
     ]
    }
   ],
   "source": [
    "constant_filter = VarianceThreshold(threshold=0.01) # Defining the threshold to 0.01, for remove all constant and quasi-constant features.\n",
    "\n",
    "constant_filter.fit(X_train)\n",
    "\n",
    "X_train_filtered = constant_filter.transform(X_train)\n",
    "X_test_filtered = constant_filter.transform(X_test)\n",
    "\n",
    "print('Number of features after remove constant and quasi-constant features:', X_train_filtered.shape[1])"
   ]
  },
  {
   "cell_type": "markdown",
   "metadata": {},
   "source": [
    "### Duplicate features removal"
   ]
  },
  {
   "cell_type": "code",
   "execution_count": 5,
   "metadata": {},
   "outputs": [
    {
     "name": "stdout",
     "output_type": "stream",
     "text": [
      "Number of features after remove duplicate features: 236\n"
     ]
    }
   ],
   "source": [
    "# Transposing the data because the method for identifying duplicates of Pandas, is only able to identify duplicate rows.\n",
    "X_train_filtered = X_train_filtered.T\n",
    "X_test_filtered = X_test_filtered.T\n",
    "\n",
    "X_train_filtered = pd.DataFrame(X_train_filtered)\n",
    "X_test_filtered = pd.DataFrame(X_test_filtered)\n",
    "\n",
    "duplicated_features = X_train_filtered.duplicated()\n",
    "\n",
    "features_to_keep = [not index for index in duplicated_features]\n",
    "\n",
    "X_train_filtered = X_train_filtered[features_to_keep].T\n",
    "X_test_filtered = X_test_filtered[features_to_keep].T\n",
    "\n",
    "print('Number of features after remove duplicate features:', X_train_filtered.shape[1])"
   ]
  },
  {
   "cell_type": "markdown",
   "metadata": {},
   "source": [
    "### Correlated Feature Removal"
   ]
  },
  {
   "cell_type": "code",
   "execution_count": 6,
   "metadata": {},
   "outputs": [
    {
     "data": {
      "text/html": [
       "<div>\n",
       "<style scoped>\n",
       "    .dataframe tbody tr th:only-of-type {\n",
       "        vertical-align: middle;\n",
       "    }\n",
       "\n",
       "    .dataframe tbody tr th {\n",
       "        vertical-align: top;\n",
       "    }\n",
       "\n",
       "    .dataframe thead th {\n",
       "        text-align: right;\n",
       "    }\n",
       "</style>\n",
       "<table border=\"1\" class=\"dataframe\">\n",
       "  <thead>\n",
       "    <tr style=\"text-align: right;\">\n",
       "      <th></th>\n",
       "      <th>0</th>\n",
       "      <th>1</th>\n",
       "      <th>2</th>\n",
       "      <th>3</th>\n",
       "      <th>4</th>\n",
       "      <th>5</th>\n",
       "      <th>6</th>\n",
       "      <th>7</th>\n",
       "      <th>8</th>\n",
       "      <th>9</th>\n",
       "      <th>...</th>\n",
       "      <th>246</th>\n",
       "      <th>247</th>\n",
       "      <th>248</th>\n",
       "      <th>249</th>\n",
       "      <th>250</th>\n",
       "      <th>251</th>\n",
       "      <th>252</th>\n",
       "      <th>253</th>\n",
       "      <th>254</th>\n",
       "      <th>255</th>\n",
       "    </tr>\n",
       "  </thead>\n",
       "  <tbody>\n",
       "    <tr>\n",
       "      <th>0</th>\n",
       "      <td>1.000000</td>\n",
       "      <td>-0.020454</td>\n",
       "      <td>0.001019</td>\n",
       "      <td>0.007351</td>\n",
       "      <td>0.003117</td>\n",
       "      <td>-0.000210</td>\n",
       "      <td>-0.011013</td>\n",
       "      <td>-0.015649</td>\n",
       "      <td>0.000905</td>\n",
       "      <td>-0.000611</td>\n",
       "      <td>...</td>\n",
       "      <td>0.003796</td>\n",
       "      <td>-0.004925</td>\n",
       "      <td>-0.014241</td>\n",
       "      <td>0.004005</td>\n",
       "      <td>0.002906</td>\n",
       "      <td>0.010260</td>\n",
       "      <td>-0.009272</td>\n",
       "      <td>0.012272</td>\n",
       "      <td>0.013223</td>\n",
       "      <td>0.006560</td>\n",
       "    </tr>\n",
       "    <tr>\n",
       "      <th>1</th>\n",
       "      <td>-0.020454</td>\n",
       "      <td>1.000000</td>\n",
       "      <td>-0.017122</td>\n",
       "      <td>0.001722</td>\n",
       "      <td>0.000997</td>\n",
       "      <td>0.003134</td>\n",
       "      <td>0.001692</td>\n",
       "      <td>0.001925</td>\n",
       "      <td>0.000665</td>\n",
       "      <td>0.000779</td>\n",
       "      <td>...</td>\n",
       "      <td>0.000449</td>\n",
       "      <td>0.000733</td>\n",
       "      <td>0.000544</td>\n",
       "      <td>0.000657</td>\n",
       "      <td>0.000679</td>\n",
       "      <td>0.001023</td>\n",
       "      <td>0.000619</td>\n",
       "      <td>0.000923</td>\n",
       "      <td>0.000985</td>\n",
       "      <td>-0.000078</td>\n",
       "    </tr>\n",
       "    <tr>\n",
       "      <th>2</th>\n",
       "      <td>0.001019</td>\n",
       "      <td>-0.017122</td>\n",
       "      <td>1.000000</td>\n",
       "      <td>0.052430</td>\n",
       "      <td>0.102994</td>\n",
       "      <td>0.110686</td>\n",
       "      <td>0.045704</td>\n",
       "      <td>0.057188</td>\n",
       "      <td>0.004767</td>\n",
       "      <td>0.006650</td>\n",
       "      <td>...</td>\n",
       "      <td>0.022039</td>\n",
       "      <td>0.024840</td>\n",
       "      <td>0.016829</td>\n",
       "      <td>0.022746</td>\n",
       "      <td>0.023120</td>\n",
       "      <td>0.040912</td>\n",
       "      <td>0.016473</td>\n",
       "      <td>0.046729</td>\n",
       "      <td>0.047113</td>\n",
       "      <td>-0.000461</td>\n",
       "    </tr>\n",
       "    <tr>\n",
       "      <th>3</th>\n",
       "      <td>0.007351</td>\n",
       "      <td>0.001722</td>\n",
       "      <td>0.052430</td>\n",
       "      <td>1.000000</td>\n",
       "      <td>0.065649</td>\n",
       "      <td>0.057302</td>\n",
       "      <td>0.029618</td>\n",
       "      <td>0.029002</td>\n",
       "      <td>0.002229</td>\n",
       "      <td>0.007876</td>\n",
       "      <td>...</td>\n",
       "      <td>-0.000819</td>\n",
       "      <td>-0.001324</td>\n",
       "      <td>-0.000971</td>\n",
       "      <td>-0.001137</td>\n",
       "      <td>-0.001147</td>\n",
       "      <td>0.001407</td>\n",
       "      <td>-0.001091</td>\n",
       "      <td>0.001334</td>\n",
       "      <td>0.001281</td>\n",
       "      <td>-0.001218</td>\n",
       "    </tr>\n",
       "    <tr>\n",
       "      <th>4</th>\n",
       "      <td>0.003117</td>\n",
       "      <td>0.000997</td>\n",
       "      <td>0.102994</td>\n",
       "      <td>0.065649</td>\n",
       "      <td>1.000000</td>\n",
       "      <td>0.890087</td>\n",
       "      <td>0.376431</td>\n",
       "      <td>0.332854</td>\n",
       "      <td>0.021652</td>\n",
       "      <td>0.041567</td>\n",
       "      <td>...</td>\n",
       "      <td>-0.002236</td>\n",
       "      <td>0.023066</td>\n",
       "      <td>0.030169</td>\n",
       "      <td>0.023807</td>\n",
       "      <td>0.026037</td>\n",
       "      <td>0.001243</td>\n",
       "      <td>0.001622</td>\n",
       "      <td>-0.000974</td>\n",
       "      <td>-0.001282</td>\n",
       "      <td>0.002879</td>\n",
       "    </tr>\n",
       "  </tbody>\n",
       "</table>\n",
       "<p>5 rows × 236 columns</p>\n",
       "</div>"
      ],
      "text/plain": [
       "        0         1         2         3         4         5         6    \\\n",
       "0  1.000000 -0.020454  0.001019  0.007351  0.003117 -0.000210 -0.011013   \n",
       "1 -0.020454  1.000000 -0.017122  0.001722  0.000997  0.003134  0.001692   \n",
       "2  0.001019 -0.017122  1.000000  0.052430  0.102994  0.110686  0.045704   \n",
       "3  0.007351  0.001722  0.052430  1.000000  0.065649  0.057302  0.029618   \n",
       "4  0.003117  0.000997  0.102994  0.065649  1.000000  0.890087  0.376431   \n",
       "\n",
       "        7         8         9    ...       246       247       248       249  \\\n",
       "0 -0.015649  0.000905 -0.000611  ...  0.003796 -0.004925 -0.014241  0.004005   \n",
       "1  0.001925  0.000665  0.000779  ...  0.000449  0.000733  0.000544  0.000657   \n",
       "2  0.057188  0.004767  0.006650  ...  0.022039  0.024840  0.016829  0.022746   \n",
       "3  0.029002  0.002229  0.007876  ... -0.000819 -0.001324 -0.000971 -0.001137   \n",
       "4  0.332854  0.021652  0.041567  ... -0.002236  0.023066  0.030169  0.023807   \n",
       "\n",
       "        250       251       252       253       254       255  \n",
       "0  0.002906  0.010260 -0.009272  0.012272  0.013223  0.006560  \n",
       "1  0.000679  0.001023  0.000619  0.000923  0.000985 -0.000078  \n",
       "2  0.023120  0.040912  0.016473  0.046729  0.047113 -0.000461  \n",
       "3 -0.001147  0.001407 -0.001091  0.001334  0.001281 -0.001218  \n",
       "4  0.026037  0.001243  0.001622 -0.000974 -0.001282  0.002879  \n",
       "\n",
       "[5 rows x 236 columns]"
      ]
     },
     "execution_count": 6,
     "metadata": {},
     "output_type": "execute_result"
    }
   ],
   "source": [
    "features_correlation = X_train_filtered.corr()\n",
    "\n",
    "features_correlation.head()"
   ]
  },
  {
   "cell_type": "code",
   "execution_count": 7,
   "metadata": {},
   "outputs": [],
   "source": [
    "# Function to get correlation between features\n",
    "def get_correlation(data, threshold):\n",
    "    correlated_columns = set()\n",
    "    correlation_matrix = data.corr()\n",
    "    for i in range(len(correlation_matrix.columns)):\n",
    "        for j in range(i):\n",
    "            if abs(correlation_matrix.iloc[i, j]) > threshold:\n",
    "                column_name = correlation_matrix.columns[i]\n",
    "                correlated_columns.add(column_name)\n",
    "    return correlated_columns    "
   ]
  },
  {
   "cell_type": "code",
   "execution_count": 8,
   "metadata": {},
   "outputs": [
    {
     "name": "stdout",
     "output_type": "stream",
     "text": [
      "Number of features after correlation filter: 114\n"
     ]
    }
   ],
   "source": [
    "correlated_features = get_correlation(X_train_filtered, 0.85) # Defining the threshold to 0.85, for select the most correlated features.\n",
    "\n",
    "X_train_filtered = X_train_filtered.drop(labels=correlated_features, axis=1)\n",
    "X_test_filtered = X_test_filtered.drop(labels=correlated_features, axis=1)\n",
    "\n",
    "print('Number of features after correlation filter:', X_train_filtered.shape[1])"
   ]
  },
  {
   "cell_type": "markdown",
   "metadata": {},
   "source": [
    "# Model"
   ]
  },
  {
   "cell_type": "code",
   "execution_count": 9,
   "metadata": {},
   "outputs": [],
   "source": [
    "# Function to create random forest models\n",
    "def random_forest_model(X_train, X_test, y_train, y_test):\n",
    "    random_forest_model = RandomForestClassifier(n_estimators=100, n_jobs=-1)\n",
    "    random_forest_model.fit(X_train, y_train)\n",
    "    prediction = random_forest_model.predict(X_test)\n",
    "    print('Model accuracy:', accuracy_score(y_test, prediction))"
   ]
  },
  {
   "cell_type": "markdown",
   "metadata": {},
   "source": [
    "### Comparing models performance"
   ]
  },
  {
   "cell_type": "code",
   "execution_count": 10,
   "metadata": {},
   "outputs": [
    {
     "name": "stdout",
     "output_type": "stream",
     "text": [
      "- Model with feature selection -\n",
      "Model accuracy: 0.95825\n",
      "Wall time: 475 ms\n"
     ]
    }
   ],
   "source": [
    "%%time\n",
    "\n",
    "print('- Model with feature selection -')\n",
    "\n",
    "random_forest_model(X_train_filtered, X_test_filtered, y_train, y_test)"
   ]
  },
  {
   "cell_type": "code",
   "execution_count": 11,
   "metadata": {},
   "outputs": [
    {
     "name": "stdout",
     "output_type": "stream",
     "text": [
      "- Model without feature selection -\n",
      "Model accuracy: 0.9575\n",
      "Wall time: 819 ms\n"
     ]
    }
   ],
   "source": [
    "%%time\n",
    "\n",
    "print('- Model without feature selection -')\n",
    "\n",
    "random_forest_model(X_train, X_test, y_train, y_test)"
   ]
  },
  {
   "cell_type": "code",
   "execution_count": null,
   "metadata": {},
   "outputs": [],
   "source": []
  }
 ],
 "metadata": {
  "kernelspec": {
   "display_name": "Python 3",
   "language": "python",
   "name": "python3"
  },
  "language_info": {
   "codemirror_mode": {
    "name": "ipython",
    "version": 3
   },
   "file_extension": ".py",
   "mimetype": "text/x-python",
   "name": "python",
   "nbconvert_exporter": "python",
   "pygments_lexer": "ipython3",
   "version": "3.7.9"
  }
 },
 "nbformat": 4,
 "nbformat_minor": 4
}
