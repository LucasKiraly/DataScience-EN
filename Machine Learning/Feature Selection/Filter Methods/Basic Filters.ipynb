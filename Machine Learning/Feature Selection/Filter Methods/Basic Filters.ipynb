{
 "cells": [
  {
   "cell_type": "markdown",
   "metadata": {},
   "source": [
    "# Libraries"
   ]
  },
  {
   "cell_type": "code",
   "execution_count": 1,
   "metadata": {},
   "outputs": [],
   "source": [
    "import pandas as pd\n",
    "\n",
    "from sklearn.model_selection import train_test_split\n",
    "from sklearn.feature_selection import VarianceThreshold\n",
    "from sklearn.ensemble import RandomForestClassifier\n",
    "from sklearn.metrics import accuracy_score"
   ]
  },
  {
   "cell_type": "markdown",
   "metadata": {},
   "source": [
    "# Data"
   ]
  },
  {
   "cell_type": "code",
   "execution_count": 2,
   "metadata": {},
   "outputs": [
    {
     "data": {
      "text/html": [
       "<div>\n",
       "<style scoped>\n",
       "    .dataframe tbody tr th:only-of-type {\n",
       "        vertical-align: middle;\n",
       "    }\n",
       "\n",
       "    .dataframe tbody tr th {\n",
       "        vertical-align: top;\n",
       "    }\n",
       "\n",
       "    .dataframe thead th {\n",
       "        text-align: right;\n",
       "    }\n",
       "</style>\n",
       "<table border=\"1\" class=\"dataframe\">\n",
       "  <thead>\n",
       "    <tr style=\"text-align: right;\">\n",
       "      <th></th>\n",
       "      <th>ID</th>\n",
       "      <th>var3</th>\n",
       "      <th>var15</th>\n",
       "      <th>imp_ent_var16_ult1</th>\n",
       "      <th>imp_op_var39_comer_ult1</th>\n",
       "      <th>imp_op_var39_comer_ult3</th>\n",
       "      <th>imp_op_var40_comer_ult1</th>\n",
       "      <th>imp_op_var40_comer_ult3</th>\n",
       "      <th>imp_op_var40_efect_ult1</th>\n",
       "      <th>imp_op_var40_efect_ult3</th>\n",
       "      <th>...</th>\n",
       "      <th>saldo_medio_var33_hace2</th>\n",
       "      <th>saldo_medio_var33_hace3</th>\n",
       "      <th>saldo_medio_var33_ult1</th>\n",
       "      <th>saldo_medio_var33_ult3</th>\n",
       "      <th>saldo_medio_var44_hace2</th>\n",
       "      <th>saldo_medio_var44_hace3</th>\n",
       "      <th>saldo_medio_var44_ult1</th>\n",
       "      <th>saldo_medio_var44_ult3</th>\n",
       "      <th>var38</th>\n",
       "      <th>TARGET</th>\n",
       "    </tr>\n",
       "  </thead>\n",
       "  <tbody>\n",
       "    <tr>\n",
       "      <th>0</th>\n",
       "      <td>1</td>\n",
       "      <td>2</td>\n",
       "      <td>23</td>\n",
       "      <td>0.0</td>\n",
       "      <td>0.0</td>\n",
       "      <td>0.0</td>\n",
       "      <td>0.0</td>\n",
       "      <td>0.0</td>\n",
       "      <td>0</td>\n",
       "      <td>0</td>\n",
       "      <td>...</td>\n",
       "      <td>0.0</td>\n",
       "      <td>0.0</td>\n",
       "      <td>0.0</td>\n",
       "      <td>0.0</td>\n",
       "      <td>0.0</td>\n",
       "      <td>0.0</td>\n",
       "      <td>0.0</td>\n",
       "      <td>0.0</td>\n",
       "      <td>39205.170000</td>\n",
       "      <td>0</td>\n",
       "    </tr>\n",
       "    <tr>\n",
       "      <th>1</th>\n",
       "      <td>3</td>\n",
       "      <td>2</td>\n",
       "      <td>34</td>\n",
       "      <td>0.0</td>\n",
       "      <td>0.0</td>\n",
       "      <td>0.0</td>\n",
       "      <td>0.0</td>\n",
       "      <td>0.0</td>\n",
       "      <td>0</td>\n",
       "      <td>0</td>\n",
       "      <td>...</td>\n",
       "      <td>0.0</td>\n",
       "      <td>0.0</td>\n",
       "      <td>0.0</td>\n",
       "      <td>0.0</td>\n",
       "      <td>0.0</td>\n",
       "      <td>0.0</td>\n",
       "      <td>0.0</td>\n",
       "      <td>0.0</td>\n",
       "      <td>49278.030000</td>\n",
       "      <td>0</td>\n",
       "    </tr>\n",
       "    <tr>\n",
       "      <th>2</th>\n",
       "      <td>4</td>\n",
       "      <td>2</td>\n",
       "      <td>23</td>\n",
       "      <td>0.0</td>\n",
       "      <td>0.0</td>\n",
       "      <td>0.0</td>\n",
       "      <td>0.0</td>\n",
       "      <td>0.0</td>\n",
       "      <td>0</td>\n",
       "      <td>0</td>\n",
       "      <td>...</td>\n",
       "      <td>0.0</td>\n",
       "      <td>0.0</td>\n",
       "      <td>0.0</td>\n",
       "      <td>0.0</td>\n",
       "      <td>0.0</td>\n",
       "      <td>0.0</td>\n",
       "      <td>0.0</td>\n",
       "      <td>0.0</td>\n",
       "      <td>67333.770000</td>\n",
       "      <td>0</td>\n",
       "    </tr>\n",
       "    <tr>\n",
       "      <th>3</th>\n",
       "      <td>8</td>\n",
       "      <td>2</td>\n",
       "      <td>37</td>\n",
       "      <td>0.0</td>\n",
       "      <td>195.0</td>\n",
       "      <td>195.0</td>\n",
       "      <td>0.0</td>\n",
       "      <td>0.0</td>\n",
       "      <td>0</td>\n",
       "      <td>0</td>\n",
       "      <td>...</td>\n",
       "      <td>0.0</td>\n",
       "      <td>0.0</td>\n",
       "      <td>0.0</td>\n",
       "      <td>0.0</td>\n",
       "      <td>0.0</td>\n",
       "      <td>0.0</td>\n",
       "      <td>0.0</td>\n",
       "      <td>0.0</td>\n",
       "      <td>64007.970000</td>\n",
       "      <td>0</td>\n",
       "    </tr>\n",
       "    <tr>\n",
       "      <th>4</th>\n",
       "      <td>10</td>\n",
       "      <td>2</td>\n",
       "      <td>39</td>\n",
       "      <td>0.0</td>\n",
       "      <td>0.0</td>\n",
       "      <td>0.0</td>\n",
       "      <td>0.0</td>\n",
       "      <td>0.0</td>\n",
       "      <td>0</td>\n",
       "      <td>0</td>\n",
       "      <td>...</td>\n",
       "      <td>0.0</td>\n",
       "      <td>0.0</td>\n",
       "      <td>0.0</td>\n",
       "      <td>0.0</td>\n",
       "      <td>0.0</td>\n",
       "      <td>0.0</td>\n",
       "      <td>0.0</td>\n",
       "      <td>0.0</td>\n",
       "      <td>117310.979016</td>\n",
       "      <td>0</td>\n",
       "    </tr>\n",
       "  </tbody>\n",
       "</table>\n",
       "<p>5 rows × 371 columns</p>\n",
       "</div>"
      ],
      "text/plain": [
       "   ID  var3  var15  imp_ent_var16_ult1  imp_op_var39_comer_ult1  \\\n",
       "0   1     2     23                 0.0                      0.0   \n",
       "1   3     2     34                 0.0                      0.0   \n",
       "2   4     2     23                 0.0                      0.0   \n",
       "3   8     2     37                 0.0                    195.0   \n",
       "4  10     2     39                 0.0                      0.0   \n",
       "\n",
       "   imp_op_var39_comer_ult3  imp_op_var40_comer_ult1  imp_op_var40_comer_ult3  \\\n",
       "0                      0.0                      0.0                      0.0   \n",
       "1                      0.0                      0.0                      0.0   \n",
       "2                      0.0                      0.0                      0.0   \n",
       "3                    195.0                      0.0                      0.0   \n",
       "4                      0.0                      0.0                      0.0   \n",
       "\n",
       "   imp_op_var40_efect_ult1  imp_op_var40_efect_ult3  ...  \\\n",
       "0                        0                        0  ...   \n",
       "1                        0                        0  ...   \n",
       "2                        0                        0  ...   \n",
       "3                        0                        0  ...   \n",
       "4                        0                        0  ...   \n",
       "\n",
       "   saldo_medio_var33_hace2  saldo_medio_var33_hace3  saldo_medio_var33_ult1  \\\n",
       "0                      0.0                      0.0                     0.0   \n",
       "1                      0.0                      0.0                     0.0   \n",
       "2                      0.0                      0.0                     0.0   \n",
       "3                      0.0                      0.0                     0.0   \n",
       "4                      0.0                      0.0                     0.0   \n",
       "\n",
       "   saldo_medio_var33_ult3  saldo_medio_var44_hace2  saldo_medio_var44_hace3  \\\n",
       "0                     0.0                      0.0                      0.0   \n",
       "1                     0.0                      0.0                      0.0   \n",
       "2                     0.0                      0.0                      0.0   \n",
       "3                     0.0                      0.0                      0.0   \n",
       "4                     0.0                      0.0                      0.0   \n",
       "\n",
       "   saldo_medio_var44_ult1  saldo_medio_var44_ult3          var38  TARGET  \n",
       "0                     0.0                     0.0   39205.170000       0  \n",
       "1                     0.0                     0.0   49278.030000       0  \n",
       "2                     0.0                     0.0   67333.770000       0  \n",
       "3                     0.0                     0.0   64007.970000       0  \n",
       "4                     0.0                     0.0  117310.979016       0  \n",
       "\n",
       "[5 rows x 371 columns]"
      ]
     },
     "execution_count": 2,
     "metadata": {},
     "output_type": "execute_result"
    }
   ],
   "source": [
    "data = pd.read_csv('santander.csv', nrows=20000)\n",
    "\n",
    "data.head()"
   ]
  },
  {
   "cell_type": "markdown",
   "metadata": {},
   "source": [
    "# Variables"
   ]
  },
  {
   "cell_type": "code",
   "execution_count": 3,
   "metadata": {},
   "outputs": [
    {
     "name": "stdout",
     "output_type": "stream",
     "text": [
      "Initial number of features: 370\n"
     ]
    }
   ],
   "source": [
    "X = data.drop('TARGET', axis=1)\n",
    "\n",
    "y = data['TARGET']\n",
    "\n",
    "X_train, X_test, y_train, y_test = train_test_split(X, y, test_size=0.2, stratify=y)\n",
    "\n",
    "print('Initial number of features:', X_train.shape[1])"
   ]
  },
  {
   "cell_type": "markdown",
   "metadata": {},
   "source": [
    "# Feature selection"
   ]
  },
  {
   "cell_type": "markdown",
   "metadata": {},
   "source": [
    "### Constant and quasi-constant features removal"
   ]
  },
  {
   "cell_type": "code",
   "execution_count": 4,
   "metadata": {},
   "outputs": [
    {
     "name": "stdout",
     "output_type": "stream",
     "text": [
      "Number of features after remove constant and quasi-constant features: 251\n"
     ]
    }
   ],
   "source": [
    "constant_filter = VarianceThreshold(threshold=0.01) # Defining the threshold to 0.01, for remove all constant and quasi-constant features.\n",
    "\n",
    "constant_filter.fit(X_train)\n",
    "\n",
    "X_train_filtered = constant_filter.transform(X_train)\n",
    "X_test_filtered = constant_filter.transform(X_test)\n",
    "\n",
    "print('Number of features after remove constant and quasi-constant features:', X_train_filtered.shape[1])"
   ]
  },
  {
   "cell_type": "markdown",
   "metadata": {},
   "source": [
    "### Duplicate features removal"
   ]
  },
  {
   "cell_type": "code",
   "execution_count": 5,
   "metadata": {},
   "outputs": [
    {
     "name": "stdout",
     "output_type": "stream",
     "text": [
      "Number of features after remove duplicate features: 231\n"
     ]
    }
   ],
   "source": [
    "# Transposing the data because the method for identifying duplicates of Pandas, is only able to identify duplicate rows.\n",
    "X_train_filtered = X_train_filtered.T\n",
    "X_test_filtered = X_test_filtered.T\n",
    "\n",
    "X_train_filtered = pd.DataFrame(X_train_filtered)\n",
    "X_test_filtered = pd.DataFrame(X_test_filtered)\n",
    "\n",
    "duplicated_features = X_train_filtered.duplicated()\n",
    "\n",
    "features_to_keep = [not index for index in duplicated_features]\n",
    "\n",
    "X_train_filtered = X_train_filtered[features_to_keep].T\n",
    "X_test_filtered = X_test_filtered[features_to_keep].T\n",
    "\n",
    "print('Number of features after remove duplicate features:', X_train_filtered.shape[1])"
   ]
  },
  {
   "cell_type": "markdown",
   "metadata": {},
   "source": [
    "### Correlated Feature Removal"
   ]
  },
  {
   "cell_type": "code",
   "execution_count": 6,
   "metadata": {},
   "outputs": [
    {
     "data": {
      "text/html": [
       "<div>\n",
       "<style scoped>\n",
       "    .dataframe tbody tr th:only-of-type {\n",
       "        vertical-align: middle;\n",
       "    }\n",
       "\n",
       "    .dataframe tbody tr th {\n",
       "        vertical-align: top;\n",
       "    }\n",
       "\n",
       "    .dataframe thead th {\n",
       "        text-align: right;\n",
       "    }\n",
       "</style>\n",
       "<table border=\"1\" class=\"dataframe\">\n",
       "  <thead>\n",
       "    <tr style=\"text-align: right;\">\n",
       "      <th></th>\n",
       "      <th>0</th>\n",
       "      <th>1</th>\n",
       "      <th>2</th>\n",
       "      <th>3</th>\n",
       "      <th>4</th>\n",
       "      <th>5</th>\n",
       "      <th>6</th>\n",
       "      <th>7</th>\n",
       "      <th>8</th>\n",
       "      <th>9</th>\n",
       "      <th>...</th>\n",
       "      <th>241</th>\n",
       "      <th>242</th>\n",
       "      <th>243</th>\n",
       "      <th>244</th>\n",
       "      <th>245</th>\n",
       "      <th>246</th>\n",
       "      <th>247</th>\n",
       "      <th>248</th>\n",
       "      <th>249</th>\n",
       "      <th>250</th>\n",
       "    </tr>\n",
       "  </thead>\n",
       "  <tbody>\n",
       "    <tr>\n",
       "      <th>0</th>\n",
       "      <td>1.000000</td>\n",
       "      <td>-0.027994</td>\n",
       "      <td>-0.001125</td>\n",
       "      <td>0.005969</td>\n",
       "      <td>0.002914</td>\n",
       "      <td>-0.000196</td>\n",
       "      <td>-0.015701</td>\n",
       "      <td>-0.019065</td>\n",
       "      <td>0.001598</td>\n",
       "      <td>-0.000037</td>\n",
       "      <td>...</td>\n",
       "      <td>0.005347</td>\n",
       "      <td>-0.000763</td>\n",
       "      <td>-0.011618</td>\n",
       "      <td>0.008501</td>\n",
       "      <td>0.007093</td>\n",
       "      <td>0.018368</td>\n",
       "      <td>0.009669</td>\n",
       "      <td>0.019819</td>\n",
       "      <td>0.020645</td>\n",
       "      <td>-0.006983</td>\n",
       "    </tr>\n",
       "    <tr>\n",
       "      <th>1</th>\n",
       "      <td>-0.027994</td>\n",
       "      <td>1.000000</td>\n",
       "      <td>-0.007995</td>\n",
       "      <td>0.001172</td>\n",
       "      <td>0.001332</td>\n",
       "      <td>0.003423</td>\n",
       "      <td>0.001692</td>\n",
       "      <td>0.001954</td>\n",
       "      <td>0.000592</td>\n",
       "      <td>0.000717</td>\n",
       "      <td>...</td>\n",
       "      <td>0.000343</td>\n",
       "      <td>0.000588</td>\n",
       "      <td>0.000483</td>\n",
       "      <td>0.000544</td>\n",
       "      <td>0.000579</td>\n",
       "      <td>0.000680</td>\n",
       "      <td>0.000824</td>\n",
       "      <td>0.000768</td>\n",
       "      <td>0.000862</td>\n",
       "      <td>0.000461</td>\n",
       "    </tr>\n",
       "    <tr>\n",
       "      <th>2</th>\n",
       "      <td>-0.001125</td>\n",
       "      <td>-0.007995</td>\n",
       "      <td>1.000000</td>\n",
       "      <td>0.036739</td>\n",
       "      <td>0.107163</td>\n",
       "      <td>0.110229</td>\n",
       "      <td>0.049204</td>\n",
       "      <td>0.060954</td>\n",
       "      <td>0.001818</td>\n",
       "      <td>0.003969</td>\n",
       "      <td>...</td>\n",
       "      <td>0.019418</td>\n",
       "      <td>0.020371</td>\n",
       "      <td>0.014175</td>\n",
       "      <td>0.020077</td>\n",
       "      <td>0.020749</td>\n",
       "      <td>0.032116</td>\n",
       "      <td>0.030926</td>\n",
       "      <td>0.038207</td>\n",
       "      <td>0.041393</td>\n",
       "      <td>-0.001735</td>\n",
       "    </tr>\n",
       "    <tr>\n",
       "      <th>3</th>\n",
       "      <td>0.005969</td>\n",
       "      <td>0.001172</td>\n",
       "      <td>0.036739</td>\n",
       "      <td>1.000000</td>\n",
       "      <td>0.021197</td>\n",
       "      <td>0.017282</td>\n",
       "      <td>0.009868</td>\n",
       "      <td>0.006659</td>\n",
       "      <td>0.000979</td>\n",
       "      <td>0.003502</td>\n",
       "      <td>...</td>\n",
       "      <td>-0.000340</td>\n",
       "      <td>-0.000577</td>\n",
       "      <td>-0.000468</td>\n",
       "      <td>-0.000498</td>\n",
       "      <td>-0.000509</td>\n",
       "      <td>-0.000249</td>\n",
       "      <td>-0.000794</td>\n",
       "      <td>-0.000250</td>\n",
       "      <td>-0.000225</td>\n",
       "      <td>-0.000123</td>\n",
       "    </tr>\n",
       "    <tr>\n",
       "      <th>4</th>\n",
       "      <td>0.002914</td>\n",
       "      <td>0.001332</td>\n",
       "      <td>0.107163</td>\n",
       "      <td>0.021197</td>\n",
       "      <td>1.000000</td>\n",
       "      <td>0.876970</td>\n",
       "      <td>0.387690</td>\n",
       "      <td>0.352906</td>\n",
       "      <td>0.017228</td>\n",
       "      <td>0.038105</td>\n",
       "      <td>...</td>\n",
       "      <td>-0.001693</td>\n",
       "      <td>0.024666</td>\n",
       "      <td>0.031742</td>\n",
       "      <td>0.023198</td>\n",
       "      <td>0.027058</td>\n",
       "      <td>-0.001705</td>\n",
       "      <td>0.001952</td>\n",
       "      <td>-0.002379</td>\n",
       "      <td>-0.002556</td>\n",
       "      <td>-0.000913</td>\n",
       "    </tr>\n",
       "  </tbody>\n",
       "</table>\n",
       "<p>5 rows × 231 columns</p>\n",
       "</div>"
      ],
      "text/plain": [
       "        0         1         2         3         4         5         6    \\\n",
       "0  1.000000 -0.027994 -0.001125  0.005969  0.002914 -0.000196 -0.015701   \n",
       "1 -0.027994  1.000000 -0.007995  0.001172  0.001332  0.003423  0.001692   \n",
       "2 -0.001125 -0.007995  1.000000  0.036739  0.107163  0.110229  0.049204   \n",
       "3  0.005969  0.001172  0.036739  1.000000  0.021197  0.017282  0.009868   \n",
       "4  0.002914  0.001332  0.107163  0.021197  1.000000  0.876970  0.387690   \n",
       "\n",
       "        7         8         9    ...       241       242       243       244  \\\n",
       "0 -0.019065  0.001598 -0.000037  ...  0.005347 -0.000763 -0.011618  0.008501   \n",
       "1  0.001954  0.000592  0.000717  ...  0.000343  0.000588  0.000483  0.000544   \n",
       "2  0.060954  0.001818  0.003969  ...  0.019418  0.020371  0.014175  0.020077   \n",
       "3  0.006659  0.000979  0.003502  ... -0.000340 -0.000577 -0.000468 -0.000498   \n",
       "4  0.352906  0.017228  0.038105  ... -0.001693  0.024666  0.031742  0.023198   \n",
       "\n",
       "        245       246       247       248       249       250  \n",
       "0  0.007093  0.018368  0.009669  0.019819  0.020645 -0.006983  \n",
       "1  0.000579  0.000680  0.000824  0.000768  0.000862  0.000461  \n",
       "2  0.020749  0.032116  0.030926  0.038207  0.041393 -0.001735  \n",
       "3 -0.000509 -0.000249 -0.000794 -0.000250 -0.000225 -0.000123  \n",
       "4  0.027058 -0.001705  0.001952 -0.002379 -0.002556 -0.000913  \n",
       "\n",
       "[5 rows x 231 columns]"
      ]
     },
     "execution_count": 6,
     "metadata": {},
     "output_type": "execute_result"
    }
   ],
   "source": [
    "features_correlation = X_train_filtered.corr()\n",
    "\n",
    "features_correlation.head()"
   ]
  },
  {
   "cell_type": "code",
   "execution_count": 7,
   "metadata": {},
   "outputs": [],
   "source": [
    "# Function to get correlation between features\n",
    "def get_correlation(data, threshold):\n",
    "    correlated_columns = set()\n",
    "    correlation_matrix = data.corr()\n",
    "    for i in range(len(correlation_matrix.columns)):\n",
    "        for j in range(i):\n",
    "            if abs(correlation_matrix.iloc[i, j]) > threshold:\n",
    "                column_name = correlation_matrix.columns[i]\n",
    "                correlated_columns.add(column_name)\n",
    "    return correlated_columns    "
   ]
  },
  {
   "cell_type": "code",
   "execution_count": 8,
   "metadata": {},
   "outputs": [
    {
     "name": "stdout",
     "output_type": "stream",
     "text": [
      "Number of features after correlation filter: 109\n"
     ]
    }
   ],
   "source": [
    "correlated_features = get_correlation(X_train_filtered, 0.85) # Defining the threshold to 0.85, for select the most correlated features.\n",
    "\n",
    "X_train_filtered = X_train_filtered.drop(labels=correlated_features, axis=1)\n",
    "X_test_filtered = X_test_filtered.drop(labels=correlated_features, axis=1)\n",
    "\n",
    "print('Number of features after correlation filter:', X_train_filtered.shape[1])"
   ]
  },
  {
   "cell_type": "markdown",
   "metadata": {},
   "source": [
    "# Model"
   ]
  },
  {
   "cell_type": "code",
   "execution_count": 9,
   "metadata": {},
   "outputs": [],
   "source": [
    "# Function to create random forest models\n",
    "def random_forest_model(X_train, X_test, y_train, y_test):\n",
    "    random_forest_model = RandomForestClassifier(n_estimators=100, n_jobs=-1)\n",
    "    random_forest_model.fit(X_train, y_train)\n",
    "    prediction = random_forest_model.predict(X_test)\n",
    "    print('Model accuracy:', accuracy_score(y_test, prediction))"
   ]
  },
  {
   "cell_type": "markdown",
   "metadata": {},
   "source": [
    "### Comparing models performance"
   ]
  },
  {
   "cell_type": "code",
   "execution_count": 10,
   "metadata": {},
   "outputs": [
    {
     "name": "stdout",
     "output_type": "stream",
     "text": [
      "- Model with feature selection -\n",
      "Number of features: 109\n",
      "Model accuracy: 0.9575\n",
      "Wall time: 494 ms\n"
     ]
    }
   ],
   "source": [
    "%%time\n",
    "\n",
    "print('- Model with feature selection -')\n",
    "\n",
    "print('Number of features:', X_train_filtered.shape[1])\n",
    "\n",
    "random_forest_model(X_train_filtered, X_test_filtered, y_train, y_test)"
   ]
  },
  {
   "cell_type": "code",
   "execution_count": 11,
   "metadata": {},
   "outputs": [
    {
     "name": "stdout",
     "output_type": "stream",
     "text": [
      "- Model without feature selection -\n",
      "Number of features: 370\n",
      "Model accuracy: 0.9575\n",
      "Wall time: 870 ms\n"
     ]
    }
   ],
   "source": [
    "%%time\n",
    "\n",
    "print('- Model without feature selection -')\n",
    "\n",
    "print('Number of features:', X_train.shape[1])\n",
    "\n",
    "random_forest_model(X_train, X_test, y_train, y_test)"
   ]
  },
  {
   "cell_type": "code",
   "execution_count": null,
   "metadata": {},
   "outputs": [],
   "source": []
  }
 ],
 "metadata": {
  "kernelspec": {
   "display_name": "Python 3",
   "language": "python",
   "name": "python3"
  },
  "language_info": {
   "codemirror_mode": {
    "name": "ipython",
    "version": 3
   },
   "file_extension": ".py",
   "mimetype": "text/x-python",
   "name": "python",
   "nbconvert_exporter": "python",
   "pygments_lexer": "ipython3",
   "version": "3.7.9"
  }
 },
 "nbformat": 4,
 "nbformat_minor": 4
}
